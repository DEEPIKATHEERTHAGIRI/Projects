{
 "cells": [
  {
   "cell_type": "code",
   "execution_count": 1,
   "id": "0295b0b2-269b-4ad3-b25f-4945fc90c553",
   "metadata": {},
   "outputs": [
    {
     "name": "stdout",
     "output_type": "stream",
     "text": [
      "DEEPIKA T\n",
      "+91 8825513924 | deepikadpu2001@gmail.com | LinkedIn | GitHub | Chennai, Tamil Nadu\n",
      "PROFESSIONAL SUMMARY\n",
      "Recent engineering graduate with a solid foundation in Python, SQL, and machine learning. Proficient in data analysis, predictive modelling, and data visualization with a track record of delivering actionable insights through well-designed dashboards. Good at managing large datasets, optimizing models, and presenting data-driven strategies to improve business outcomes. Eager to contribute my skills in a challenging and dynamic work environment.\n",
      "SKILLS\n",
      "Programming Languages: Python ,Pandas, Numpy, Matplotlib,Seaborn\n",
      "Database Management: SQL (DDL, DML, DQL, TCL, Joins, Subqueries) \n",
      "Data Analysis: Excel (Formulas, Charts), Exploratory Data Analysis (EDA),Data Cleaning\n",
      "Data Visualization: Power BI (Dashboards, DAX Functions),ETL\n",
      "Data Science: Statistics,Scikit-learn, Natural Language Processing (NLP),Deep Learning\n",
      "PROJECTS\n",
      "Sales Prediction Project | Link\n",
      "Developed a sales prediction model using machine learning algorithms, achieving 85% accuracy, leading to a 10% revenue boost.\n",
      "Cleaned and processed data using features like Store ID, Date, Holiday, Discount, and Sales; addressed missing values and standardized data.\n",
      "Evaluated and optimized multiple models for better forecasting and provided insights to enhance inventory management.\n",
      "Student Performance Analysis | Link\n",
      "Predicted student grades using logistic regression based on features like study time, GPA, and absences.\n",
      "Preprocessed data and created features like parental support and extracurricular activities for better prediction accuracy.\n",
      "Provided insights into factors influencing student performance, helping to identify key predictors of success.\n",
      "Google Play Store Application Analysis | Link\n",
      "Analyzed Play Store app data to improve ranking strategies by 15% through insights on user behavior and app performance.\n",
      "Handled data cleaning and preprocessing, including dealing with missing values and outliers.\n",
      "Utilized Python libraries such as Pandas, Matplotlib, and Seaborn to perform Exploratory Data Analysis (EDA) and generate actionable insights.\n",
      "WORK EXPERIENCE\n",
      "Data Science Intern (Virtual)\n",
      "Sabudh Foundation | July 2024 - Present\n",
      "Utilized Python and SQL for data compilation, sanitization, and preprocessing.\n",
      "Conducted EDA to uncover insights, supporting data-driven decision-making.\n",
      "Contributed to the design, training, and evaluation of machine learning models using Scikit-learn, improving model accuracy by 20%.\n",
      " EDUCATION\n",
      "KSR Institute for Engineering and Technology\n",
      "Bachelor of Technology in Information Technology | CGPA: 8.66 Namakkal, Tamil Nadu | July 2019 – May 2023\n",
      "Amrutha Matric Higher Secondary School\n",
      "HSC | Percentage: 85.33% Dharmapuri, Tamil Nadu | March 2019\n",
      "CERTIFICATIONS\n",
      "Data Science Master Program – Besant Technologies\n",
      "Foundations: Data, Data, Everywhere – Google (Coursera) | Certificate\n",
      "Programming in Python – HackerRank  | Certificate\n",
      "SQL (Basic) – HackerRank | Certificate\n"
     ]
    }
   ],
   "source": [
    "import os\n",
    "import docx\n",
    "import PyPDF2\n",
    "\n",
    "# Function to check the file type and convert to text\n",
    "def convert_to_text(file_path):\n",
    "    # Extract file extension\n",
    "    file_extension = os.path.splitext(file_path)[1].lower()\n",
    "    \n",
    "    if file_extension == '.docx':\n",
    "        # If the file is a Word document, use docx to convert it\n",
    "        return convert_word_to_text(file_path)\n",
    "    elif file_extension == '.pdf':\n",
    "        # If the file is a PDF, use PyPDF2 to convert it\n",
    "        return convert_pdf_to_text(file_path)\n",
    "    else:\n",
    "        return \"Unsupported file format\"\n",
    "\n",
    "# Function to convert Word document to text\n",
    "def convert_word_to_text(file_path):\n",
    "    doc = docx.Document(file_path)\n",
    "    full_text = []\n",
    "    for para in doc.paragraphs:\n",
    "        full_text.append(para.text)\n",
    "    return '\\n'.join(full_text)\n",
    "\n",
    "# Function to convert PDF document to text\n",
    "def convert_pdf_to_text(file_path):\n",
    "    with open(file_path, 'rb') as pdf_file:\n",
    "        reader = PyPDF2.PdfReader(pdf_file)\n",
    "        text = \"\"\n",
    "        for page in reader.pages:\n",
    "            text += page.extract_text()\n",
    "        return text\n",
    "\n",
    "# Example usage\n",
    "file_path = r'C:\\Users\\Deepika\\Desktop\\sample_resume.docx'  # Replace with your file path\n",
    "text_output = convert_to_text(file_path)\n",
    "\n",
    "# Output the extracted text\n",
    "print(text_output)\n"
   ]
  },
  {
   "cell_type": "code",
   "execution_count": 3,
   "id": "915e5748-5bb8-4abf-b4cf-2b249d04cca2",
   "metadata": {},
   "outputs": [
    {
     "name": "stdout",
     "output_type": "stream",
     "text": [
      "\n",
      "Key Words after excluding stop words:\n",
      "\n",
      "Key Words after excluding stop words (in lowercase):\n",
      "['deepika', 't', '+91', '8825513924', '|', 'deepikadpu2001@gmail.com', '|', 'linkedin', '|', 'github', '|', 'chennai,', 'tamil', 'nadu', 'professional', 'summary', 'recent', 'engineering', 'graduate', 'solid', 'foundation', 'python,', 'sql,', 'machine', 'learning.', 'proficient', 'data', 'analysis,', 'predictive', 'modelling,', 'data', 'visualization', 'track', 'record', 'delivering', 'actionable', 'insights', 'well-designed', 'dashboards.', 'good', 'managing', 'large', 'datasets,', 'optimizing', 'models,', 'presenting', 'data-driven', 'strategies', 'improve', 'business', 'outcomes.', 'eager', 'contribute', 'skills', 'challenging', 'dynamic', 'work', 'environment.', 'skills', 'programming', 'languages:', 'python', ',pandas,', 'numpy,', 'matplotlib,seaborn', 'database', 'management:', 'sql', '(ddl,', 'dml,', 'dql,', 'tcl,', 'joins,', 'subqueries)', 'data', 'analysis:', 'excel', '(formulas,', 'charts),', 'exploratory', 'data', 'analysis', '(eda),data', 'cleaning', 'data', 'visualization:', 'power', 'bi', '(dashboards,', 'dax', 'functions),etl', 'data', 'science:', 'statistics,scikit-learn,', 'natural', 'language', 'processing', '(nlp),deep', 'learning', 'projects', 'sales', 'prediction', 'project', '|', 'link', 'developed', 'sales', 'prediction', 'model', 'using', 'machine', 'learning', 'algorithms,', 'achieving', '85%', 'accuracy,', 'leading', '10%', 'revenue', 'boost.', 'cleaned', 'processed', 'data', 'using', 'features', 'like', 'store', 'id,', 'date,', 'holiday,', 'discount,', 'sales;', 'addressed', 'missing', 'values', 'standardized', 'data.', 'evaluated', 'optimized', 'multiple', 'models', 'better', 'forecasting', 'provided', 'insights', 'enhance', 'inventory', 'management.', 'student', 'performance', 'analysis', '|', 'link', 'predicted', 'student', 'grades', 'using', 'logistic', 'regression', 'based', 'features', 'like', 'study', 'time,', 'gpa,', 'absences.', 'preprocessed', 'data', 'created', 'features', 'like', 'parental', 'support', 'extracurricular', 'activities', 'better', 'prediction', 'accuracy.', 'provided', 'insights', 'factors', 'influencing', 'student', 'performance,', 'helping', 'identify', 'key', 'predictors', 'success.', 'google', 'play', 'store', 'application', 'analysis', '|', 'link', 'analyzed', 'play', 'store', 'app', 'data', 'improve', 'ranking', 'strategies', '15%', 'insights', 'user', 'behavior', 'app', 'performance.', 'handled', 'data', 'cleaning', 'preprocessing,', 'including', 'dealing', 'missing', 'values', 'outliers.', 'utilized', 'python', 'libraries', 'pandas,', 'matplotlib,', 'seaborn', 'perform', 'exploratory', 'data', 'analysis', '(eda)', 'generate', 'actionable', 'insights.', 'work', 'experience', 'data', 'science', 'intern', '(virtual)', 'sabudh', 'foundation', '|', 'july', '2024', '-', 'present', 'utilized', 'python', 'sql', 'data', 'compilation,', 'sanitization,', 'preprocessing.', 'conducted', 'eda', 'uncover', 'insights,', 'supporting', 'data-driven', 'decision-making.', 'contributed', 'design,', 'training,', 'evaluation', 'machine', 'learning', 'models', 'using', 'scikit-learn,', 'improving', 'model', 'accuracy', '20%.', 'education', 'ksr', 'institute', 'engineering', 'technology', 'bachelor', 'technology', 'information', 'technology', '|', 'cgpa:', '8.66', 'namakkal,', 'tamil', 'nadu', '|', 'july', '2019', '–', '2023', 'amrutha', 'matric', 'higher', 'secondary', 'school', 'hsc', '|', 'percentage:', '85.33%', 'dharmapuri,', 'tamil', 'nadu', '|', 'march', '2019', 'certifications', 'data', 'science', 'master', 'program', '–', 'besant', 'technologies', 'foundations:', 'data,', 'data,', '–', 'google', '(coursera)', '|', 'certificate', 'programming', 'python', '–', 'hackerrank', '|', 'certificate', 'sql', '(basic)', '–', 'hackerrank', '|', 'certificate']\n"
     ]
    }
   ],
   "source": [
    "from sklearn.feature_extraction.text import ENGLISH_STOP_WORDS\n",
    "# Function to extract key words excluding stop words\n",
    "def extract_key_words(text):\n",
    "    words = text.split()\n",
    "    key_words = [word for word in words if word.lower() not in ENGLISH_STOP_WORDS]\n",
    "    return key_words\n",
    "\n",
    "# Extract key words excluding stop words\n",
    "key_words = extract_key_words(text_output)\n",
    "\n",
    "# Output the key words\n",
    "print(\"\\nKey Words after excluding stop words:\")\n",
    "#print(key_words) \n",
    "\n",
    "# Convert each word to lowercase\n",
    "key_words_lower = [word.lower() for word in key_words]\n",
    "\n",
    "# Output the key words in lowercase\n",
    "print(\"\\nKey Words after excluding stop words (in lowercase):\")\n",
    "print(key_words_lower)  \n"
   ]
  },
  {
   "cell_type": "code",
   "execution_count": 4,
   "id": "74aa2ed2-0dfe-4e1f-b376-0397f383fea6",
   "metadata": {},
   "outputs": [
    {
     "name": "stdout",
     "output_type": "stream",
     "text": [
      "{'skills_data_analyst': ['sql', 'excel', 'power bi', 'python', 'data cleaning', 'pandas', 'numpy', 'matplotlib', 'data analysis', 'data visualization', 'etl', 'statistics', 'projects'], 'skills_data_scientist': ['python', 'machine learning', 'deep learning', 'nlp', 'natural language processing', 'pandas', 'numpy', 'matplotlib', 'scikit-learn', 'eda', 'seaborn', 'statistics', 'data cleaning', 'data modeling', 'sql', 'data wrangling', 'data visualization', 'power bi', 'prediction', 'projects'], 'skills_full_stack_developer': ['javascript', 'react', 'angular', 'node.js', 'express', 'html', 'css', 'bootstrap', 'mongodb', 'mysql', 'sql', 'apis', 'version control (git)', 'devops', 'restful services', 'microservices', 'authentication', 'projects'], 'skills_testing': ['test cases', 'automation testing', 'manual testing', 'selenium', 'junit', 'testng', 'load testing', 'api testing', 'regression testing', 'performance testing', 'debugging', 'bug reporting', 'jira', 'quality assurance', 'projects']}\n"
     ]
    }
   ],
   "source": [
    "# Define skill sets for different roles\n",
    "required_skills = {\n",
    "    'skills_data_analyst': [\n",
    "        'SQL', 'Excel', 'Power BI', 'Python', 'Data Cleaning','Pandas', 'NumPy','Matplotlib',\n",
    "        'Data Analysis', 'Data Visualization', 'ETL', 'Statistics','Projects'\n",
    "    ],\n",
    "    \n",
    "    'skills_data_scientist': [\n",
    "        'Python', 'Machine Learning', 'Deep Learning', 'NLP','Natural Language Processing', \n",
    "        'Pandas', 'NumPy','Matplotlib', 'Scikit-learn', 'EDA','Seaborn','Statistics','Data Cleaning',\n",
    "        'Data Modeling', 'SQL', 'Data Wrangling', 'Data Visualization', 'Power BI', 'Prediction','Projects'\n",
    "    ],\n",
    "    \n",
    "    'skills_full_stack_developer': [\n",
    "        'JavaScript', 'React', 'Angular', 'Node.js', 'Express', 'HTML', \n",
    "        'CSS', 'Bootstrap', 'MongoDB', 'MySQL', 'SQL', 'APIs', \n",
    "        'Version Control (Git)', 'DevOps', 'RESTful Services', 'Microservices', 'Authentication','Projects'\n",
    "    ],\n",
    "    \n",
    "    'skills_testing': [\n",
    "        'Test Cases', 'Automation Testing', 'Manual Testing', 'Selenium', \n",
    "        'JUnit', 'TestNG', 'Load Testing', 'API Testing', 'Regression Testing', \n",
    "        'Performance Testing', 'Debugging', 'Bug Reporting', 'JIRA', 'Quality Assurance','Projects'\n",
    "    ]\n",
    "}\n",
    "\n",
    "# Convert keys and values to lowercase\n",
    "lowercase_required_skills = {key.lower(): [skill.lower() for skill in value] for key, value in required_skills.items()}\n",
    "\n",
    "# Output the result\n",
    "print(lowercase_required_skills)\n",
    "\n"
   ]
  },
  {
   "cell_type": "code",
   "execution_count": 7,
   "id": "b79b1c59-fc40-45ab-9eeb-1e4563f60a6c",
   "metadata": {},
   "outputs": [
    {
     "name": "stdout",
     "output_type": "stream",
     "text": [
      "\n",
      "Eligible Roles based on skills:\n",
      "[]\n"
     ]
    }
   ],
   "source": [
    "def check_eligibility(extracted_skills, required_skills):\n",
    "    eligible_roles = []\n",
    "    \n",
    "    for role, skills in required_skills.items():\n",
    "        # Check if the extracted skills cover all required skills for the role\n",
    "        if all(skill.lower() in extracted_skills for skill in skills):\n",
    "            eligible_roles.append(role)\n",
    "\n",
    "    return eligible_roles\n",
    "\n",
    "# Example usage\n",
    "# Use the extracted key words in lowercase to create a set of skills\n",
    "extracted_skills_set = set(key_words_lower)\n",
    "\n",
    "# Check eligibility\n",
    "eligible_roles = check_eligibility(extracted_skills_set, lowercase_required_skills)\n",
    "\n",
    "# Output the eligible roles\n",
    "print(\"\\nEligible Roles based on skills:\")\n",
    "print(eligible_roles)\n"
   ]
  }
 ],
 "metadata": {
  "kernelspec": {
   "display_name": "Python 3 (ipykernel)",
   "language": "python",
   "name": "python3"
  },
  "language_info": {
   "codemirror_mode": {
    "name": "ipython",
    "version": 3
   },
   "file_extension": ".py",
   "mimetype": "text/x-python",
   "name": "python",
   "nbconvert_exporter": "python",
   "pygments_lexer": "ipython3",
   "version": "3.12.4"
  }
 },
 "nbformat": 4,
 "nbformat_minor": 5
}
